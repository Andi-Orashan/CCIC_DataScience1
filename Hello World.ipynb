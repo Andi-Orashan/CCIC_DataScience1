{
 "cells": [
  {
   "cell_type": "code",
   "execution_count": null,
   "id": "9db75781",
   "metadata": {},
   "outputs": [],
   "source": [
    "print(\"Hello world! \", end = '')\n",
    "print(\"My name is Andi!\")"
   ]
  },
  {
   "cell_type": "code",
   "execution_count": 8,
   "id": "53d7569f",
   "metadata": {},
   "outputs": [
    {
     "name": "stdout",
     "output_type": "stream",
     "text": [
      "\u001b[95m\n",
      "…………..*.\n",
      "……..*………*\n",
      "…..*……………*\n",
      "…*………………..*\n",
      "…*………………….*\n",
      ".*……………………*………*….*\n",
      "*…………………….*…*…………..*\n",
      ".*…………………….*……………….*\n",
      "..*…………………………………….*\n",
      "…*…………………………………*\n",
      "…..*…………………………….*\n",
      "……..*………………………*\n",
      "………..*………………….*\n",
      "……………*……………*\n",
      "………………*……….*\n",
      "…………………*…..*\n",
      "………………….*..*\n",
      "……………………*\n",
      "……………………*\n",
      "…………………..*\n",
      "……………………*\n",
      "……………………..*\n",
      "………………………..*\n",
      "…………………………..*\n",
      "……………………………*\n",
      "………………………….*\n",
      "……………………….*\n",
      "………………………*\n",
      "…………………….*\n",
      "…………………….*\n"
     ]
    }
   ],
   "source": [
    "print(\"\\033[95m\")\n",
    "print(\"…………..*.\")\n",
    "print(\"……..*………*\")\n",
    "print(\"…..*……………*\")\n",
    "print(\"…*………………..*\")\n",
    "print(\"…*………………….*\")\n",
    "print(\".*……………………*………*….*\")\n",
    "print(\"*…………………….*…*…………..*\")\n",
    "print(\".*…………………….*……………….*\")\n",
    "print(\"..*…………………………………….*\")\n",
    "print(\"…*…………………………………*\")\n",
    "print(\"…..*…………………………….*\")\n",
    "print(\"……..*………………………*\")\n",
    "print(\"………..*………………….*\")\n",
    "print(\"……………*……………*\")\n",
    "print(\"………………*……….*\")\n",
    "print(\"…………………*…..*\")\n",
    "print(\"………………….*..*\")\n",
    "print(\"……………………*\")\n",
    "print(\"……………………*\")\n",
    "print(\"…………………..*\")\n",
    "print(\"……………………*\")\n",
    "print(\"……………………..*\")\n",
    "print(\"………………………..*\")\n",
    "print(\"…………………………..*\")\n",
    "print(\"……………………………*\")\n",
    "print(\"………………………….*\")\n",
    "print(\"……………………….*\")\n",
    "print(\"………………………*\")\n",
    "print(\"…………………….*\")\n",
    "print(\"…………………….*\")"
   ]
  }
 ],
 "metadata": {
  "celltoolbar": "Raw Cell Format",
  "kernelspec": {
   "display_name": "Python 3 (ipykernel)",
   "language": "python",
   "name": "python3"
  },
  "language_info": {
   "codemirror_mode": {
    "name": "ipython",
    "version": 3
   },
   "file_extension": ".py",
   "mimetype": "text/x-python",
   "name": "python",
   "nbconvert_exporter": "python",
   "pygments_lexer": "ipython3",
   "version": "3.9.12"
  }
 },
 "nbformat": 4,
 "nbformat_minor": 5
}
