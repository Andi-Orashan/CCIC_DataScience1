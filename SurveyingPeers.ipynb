{
 "cells": [
  {
   "cell_type": "code",
   "execution_count": 54,
   "id": "d5d37b2f",
   "metadata": {},
   "outputs": [
    {
     "name": "stdout",
     "output_type": "stream",
     "text": [
      "How many siblings each student has:\n",
      "0-5\n",
      "~~~~~~~~~~~~~~\n",
      "5-10\n",
      "~~\n",
      "10-15\n",
      "~\n",
      "If students will use Data Science later in life:\n",
      "Yes\n",
      "~~~~\n",
      "Maybe\n",
      "~~~~~~~~~~~~\n",
      "No\n",
      "~\n"
     ]
    }
   ],
   "source": [
    "from collections import Counter\n",
    "sibling =[[\"How many siblings each peer has\"],\n",
    "          [2,0,0,15,1,6,2,0,0,2,3,6,1,1,3,1,2],\n",
    "          [\"Do you plan on using Data Science in your future career or life?\"],\n",
    "          [\"Yes\",\"Maybe\",\"Maybe\",\"Maybe\",\"Maybe\",\"Yes\",\"Maybe\",\"Maybe\",\"Maybe\",\n",
    "           \"Maybe\",\"Maybe\",\"No\",\"Maybe\",\"Maybe\",\"Yes\",\"Yes\",\"Maybe\"]]\n",
    "keys = {key1: \"~\"}\n",
    "sibling[1].sort()\n",
    "zero = []\n",
    "five = []\n",
    "ten = []\n",
    "yes = []\n",
    "maybe = []\n",
    "no = []\n",
    "for num in sibling[1]:\n",
    "    if 5 > num >= 0:\n",
    "        zero.append(num)\n",
    "    if 10 > num >= 5:\n",
    "        five.append(num)\n",
    "    if 15 >= num >= 10:\n",
    "        ten.append(num)\n",
    "print(\"How many siblings each student has:\")\n",
    "print(\"0-5\")\n",
    "print((key1 * len(zero)))\n",
    "print(\"5-10\")\n",
    "print((key1 * len(five)))\n",
    "print(\"10-15\")\n",
    "print((key1 * len(ten)))\n",
    "for answer in sibling[3]:\n",
    "    if answer == \"Yes\":\n",
    "        yes.append(answer)\n",
    "    if answer == \"Maybe\":\n",
    "        maybe.append(answer)\n",
    "    if answer == \"No\":\n",
    "        no.append(answer)\n",
    "print(\"If students will use Data Science later in life:\")\n",
    "print(\"Yes\")\n",
    "print((key1 * len(yes)))\n",
    "print(\"Maybe\")\n",
    "print((key1 * len(maybe)))\n",
    "print(\"No\")\n",
    "print((key1 * len(no)))"
   ]
  }
 ],
 "metadata": {
  "kernelspec": {
   "display_name": "Python 3 (ipykernel)",
   "language": "python",
   "name": "python3"
  },
  "language_info": {
   "codemirror_mode": {
    "name": "ipython",
    "version": 3
   },
   "file_extension": ".py",
   "mimetype": "text/x-python",
   "name": "python",
   "nbconvert_exporter": "python",
   "pygments_lexer": "ipython3",
   "version": "3.9.12"
  }
 },
 "nbformat": 4,
 "nbformat_minor": 5
}
