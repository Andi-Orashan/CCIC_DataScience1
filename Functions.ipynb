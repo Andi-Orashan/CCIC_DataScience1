{
 "cells": [
  {
   "cell_type": "code",
   "execution_count": 9,
   "id": "def26447",
   "metadata": {},
   "outputs": [
    {
     "name": "stdout",
     "output_type": "stream",
     "text": [
      "[1, 1, 3, 4, 6, 7, 8, 9]\n",
      "0.00041319999999700485\n"
     ]
    }
   ],
   "source": [
    "#Challenge 1- sort a list of integers from largest to smallest by creating a new sort algorithm\n",
    "from timeit import default_timer as timer\n",
    "start = timer()\n",
    "nums = [1,8,3,4,1,6,7,9]\n",
    "def sorting(l):\n",
    "    for i in range(len(l)):\n",
    "        for j in range(i + 1, len(l)):\n",
    "    \n",
    "            if l[i] > l[j]:\n",
    "                l[i], l[j] = l[j], l[i]\n",
    "    return l\n",
    "print(sorting(nums))\n",
    "end = timer()\n",
    "print(end - start)"
   ]
  },
  {
   "cell_type": "code",
   "execution_count": 55,
   "id": "d6fdee10",
   "metadata": {},
   "outputs": [],
   "source": [
    "# list length, time\n",
    "performance = [\n",
    "    [0, 0.0006748999999217631],\n",
    "    [1, 0.00070770000002085],          \n",
    "    [2, 0.00034679999998843414],\n",
    "    [3, 0.0009509999999863794],\n",
    "    [4, 0.00027270000009593787],\n",
    "    [5, 0.0007559000000583183],\n",
    "    [6, 0.0004926999999952386],\n",
    "    [7, 0.00035500000001320586],\n",
    "    [8, 0.00041319999999700485]\n",
    "    ]"
   ]
  }
 ],
 "metadata": {
  "celltoolbar": "Tags",
  "kernelspec": {
   "display_name": "Python 3 (ipykernel)",
   "language": "python",
   "name": "python3"
  },
  "language_info": {
   "codemirror_mode": {
    "name": "ipython",
    "version": 3
   },
   "file_extension": ".py",
   "mimetype": "text/x-python",
   "name": "python",
   "nbconvert_exporter": "python",
   "pygments_lexer": "ipython3",
   "version": "3.9.12"
  }
 },
 "nbformat": 4,
 "nbformat_minor": 5
}
