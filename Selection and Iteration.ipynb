{
 "cells": [
  {
   "cell_type": "code",
   "execution_count": null,
   "id": "a221f073",
   "metadata": {},
   "outputs": [],
   "source": [
    "#challenge 1\n",
    "list1 = [3,4,5]\n",
    "list2 = [5,3,7,9,2]\n",
    "list1.sort()\n",
    "print(list1)\n",
    "list2.sort()\n",
    "print(list2)\n",
    "for x in list1:\n",
    "    if x in list2:\n",
    "        boo = True\n",
    "    else:\n",
    "        boo = False\n",
    "        break\n",
    "print(boo)"
   ]
  },
  {
   "cell_type": "code",
   "execution_count": null,
   "id": "6ce759b2",
   "metadata": {},
   "outputs": [],
   "source": [
    "#challenge 2\n",
    "number = int(input(\"Choose a Number-> \"))\n",
    "length = int(input(\"Enter Length-> \"))\n",
    "x= 1\n",
    "mult = []\n",
    "while x<= length:\n",
    "    num = number * x\n",
    "    mult.append(num)\n",
    "    x = x + 1\n",
    "print(mult)"
   ]
  },
  {
   "cell_type": "code",
   "execution_count": 17,
   "id": "ece48ee5",
   "metadata": {},
   "outputs": [
    {
     "name": "stdout",
     "output_type": "stream",
     "text": [
      "Enter a message-> hi\n",
      ".... .. "
     ]
    }
   ],
   "source": [
    "#challenge 3\n",
    "char_to_dots = {\n",
    "  'A': '.-', 'B': '-...', 'C': '-.-.', 'D': '-..', 'E': '.', 'F': '..-.',\n",
    "  'G': '--.', 'H': '....', 'I': '..', 'J': '.---', 'K': '-.-', 'L': '.-..',\n",
    "  'M': '--', 'N': '-.', 'O': '---', 'P': '.--.', 'Q': '--.-', 'R': '.-.',\n",
    "  'S': '...', 'T': '-', 'U': '..-', 'V': '...-', 'W': '.--', 'X': '-..-',\n",
    "  'Y': '-.--', 'Z': '--..',  'a': '.-', 'b': '-...', 'c': '-.-.', 'd': '-..', 'e': '.', 'f': '..-.',\n",
    "  'g': '--.', 'h': '....', 'i': '..', 'j': '.---', 'k': '-.-', 'l': '.-..',\n",
    "  'm': '--', 'n': '-.', 'o': '---', 'p': '.--.', 'q': '--.-', 'r': '.-.',\n",
    "  's': '...', 't': '-', 'u': '..-', 'v': '...-', 'w': '.--', 'x': '-..-',\n",
    "  'y': '-.--', 'z': '--..', ' ': ' ', '0': '-----',\n",
    "  '1': '.----', '2': '..---', '3': '...--', '4': '....-', '5': '.....',\n",
    "  '6': '-....', '7': '--...', '8': '---..', '9': '----.',\n",
    "  '&': '.-...', \"'\": '.----.', '@': '.--.-.', ')': '-.--.-', '(': '-.--.',\n",
    "  ':': '---...', ',': '--..--', '=': '-...-', '!': '-.-.--', '.': '.-.-.-',\n",
    "  '-': '-....-', '+': '.-.-.', '\"': '.-..-.', '?': '..--..', '/': '-..-.'\n",
    "}\n",
    "string = input(\"Enter a message-> \")\n",
    "for let in string:\n",
    "    print(char_to_dots[let] + \" \", end='')"
   ]
  },
  {
   "cell_type": "code",
   "execution_count": 16,
   "id": "45e6d7f3",
   "metadata": {},
   "outputs": [
    {
     "name": "stdout",
     "output_type": "stream",
     "text": [
      "True\n"
     ]
    }
   ],
   "source": [
    "#challenge 4\n",
    "concertSeat = [[1,2,3,2,1,1],\n",
    "              [2,4,4,3,2,2],\n",
    "              [5,5,5,5,4,4],\n",
    "              [6,6,7,6,5,5]]\n",
    "result = True\n",
    "for c in range(len(concertSeat[0])):\n",
    "    for r in range(len(concertSeat)):\n",
    "        if r < len(concertSeat)-1 and concertSeat[r][c] >= concertSeat[r+1][c]:\n",
    "            result = False\n",
    "            break\n",
    "print(result)"
   ]
  },
  {
   "cell_type": "code",
   "execution_count": null,
   "id": "4b9f4c86",
   "metadata": {},
   "outputs": [],
   "source": []
  }
 ],
 "metadata": {
  "kernelspec": {
   "display_name": "Python 3 (ipykernel)",
   "language": "python",
   "name": "python3"
  },
  "language_info": {
   "codemirror_mode": {
    "name": "ipython",
    "version": 3
   },
   "file_extension": ".py",
   "mimetype": "text/x-python",
   "name": "python",
   "nbconvert_exporter": "python",
   "pygments_lexer": "ipython3",
   "version": "3.9.12"
  }
 },
 "nbformat": 4,
 "nbformat_minor": 5
}
