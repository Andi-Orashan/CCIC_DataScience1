{
 "cells": [
  {
   "cell_type": "code",
   "execution_count": 14,
   "id": "3fb770fe",
   "metadata": {},
   "outputs": [
    {
     "name": "stdout",
     "output_type": "stream",
     "text": [
      "    sugars     rating\n",
      "0        6  68.402973\n",
      "1        8  33.983679\n",
      "2        5  59.425505\n",
      "3        0  93.704912\n",
      "4        8  34.384843\n",
      "..     ...        ...\n",
      "72       3  39.106174\n",
      "73      12  27.753301\n",
      "74       3  49.787445\n",
      "75       3  51.592193\n",
      "76       8  36.187559\n",
      "\n",
      "[76 rows x 2 columns]\n"
     ]
    }
   ],
   "source": [
    "import pandas as pd\n",
    "df = pd.read_csv('cereal.csv')\n",
    "df.drop(df.columns[[0,1,2,3,4,5,6,7,8,10,11,12,13,14]], axis = 1, inplace=True)\n",
    "df.drop(df.loc[df['sugars']==-1].index, inplace=True)\n",
    "df.drop(df.loc[df['rating']==-1].index, inplace=True)\n",
    "print(df)"
   ]
  },
  {
   "cell_type": "code",
   "execution_count": 15,
   "id": "6e8e8215",
   "metadata": {},
   "outputs": [
    {
     "name": "stdout",
     "output_type": "stream",
     "text": [
      "Mean:\n",
      "7.026315789473684\n",
      "Mode:\n",
      "0    3\n",
      "Name: sugars, dtype: int64\n",
      "Median:\n",
      "7.0\n"
     ]
    },
    {
     "data": {
      "text/plain": [
       "count    76.000000\n",
       "mean      7.026316\n",
       "std       4.378656\n",
       "min       0.000000\n",
       "25%       3.000000\n",
       "50%       7.000000\n",
       "75%      11.000000\n",
       "max      15.000000\n",
       "Name: sugars, dtype: float64"
      ]
     },
     "execution_count": 15,
     "metadata": {},
     "output_type": "execute_result"
    }
   ],
   "source": [
    "print(\"Mean:\")\n",
    "print(df['sugars'].mean())\n",
    "print(\"Mode:\")\n",
    "print(df['sugars'].mode())\n",
    "print(\"Median:\")\n",
    "print(df['sugars'].median())\n",
    "df['sugars'].describe()"
   ]
  },
  {
   "cell_type": "code",
   "execution_count": 27,
   "id": "a70772d9",
   "metadata": {},
   "outputs": [
    {
     "data": {
      "text/html": [
       "<div>\n",
       "<style scoped>\n",
       "    .dataframe tbody tr th:only-of-type {\n",
       "        vertical-align: middle;\n",
       "    }\n",
       "\n",
       "    .dataframe tbody tr th {\n",
       "        vertical-align: top;\n",
       "    }\n",
       "\n",
       "    .dataframe thead th {\n",
       "        text-align: right;\n",
       "    }\n",
       "</style>\n",
       "<table border=\"1\" class=\"dataframe\">\n",
       "  <thead>\n",
       "    <tr style=\"text-align: right;\">\n",
       "      <th></th>\n",
       "      <th>sugars</th>\n",
       "      <th>rating</th>\n",
       "    </tr>\n",
       "  </thead>\n",
       "  <tbody>\n",
       "    <tr>\n",
       "      <th>sugars</th>\n",
       "      <td>1.000000</td>\n",
       "      <td>-0.763902</td>\n",
       "    </tr>\n",
       "    <tr>\n",
       "      <th>rating</th>\n",
       "      <td>-0.763902</td>\n",
       "      <td>1.000000</td>\n",
       "    </tr>\n",
       "  </tbody>\n",
       "</table>\n",
       "</div>"
      ],
      "text/plain": [
       "          sugars    rating\n",
       "sugars  1.000000 -0.763902\n",
       "rating -0.763902  1.000000"
      ]
     },
     "execution_count": 27,
     "metadata": {},
     "output_type": "execute_result"
    },
    {
     "data": {
      "image/png": "[encoded data removed]",
      "text/plain": [
       "<Figure size 360x360 with 1 Axes>"
      ]
     },
     "metadata": {},
     "output_type": "display_data"
    }
   ],
   "source": [
    "import seaborn as sns\n",
    "sns.set_style('darkgrid')\n",
    "sns.lmplot(x ='sugars', y ='rating', data = df)\n",
    "df.corr()\n",
    "\n",
    "import seaborn as sns\n",
    "import matplotlib.pyplot as plt\n",
    "sns.regplot(x = \"mpg\", \n",
    "            y = \"acceleration\", \n",
    "            data = data)\n",
    "  \n",
    "# show the plot\n",
    "plt.show()\n",
    "  "
   ]
  },
  {
   "cell_type": "code",
   "execution_count": null,
   "id": "0ba221e6",
   "metadata": {},
   "outputs": [],
   "source": []
  },
  {
   "cell_type": "code",
   "execution_count": null,
   "id": "d614ab0f",
   "metadata": {},
   "outputs": [],
   "source": []
  },
  {
   "cell_type": "code",
   "execution_count": null,
   "id": "43de04f3",
   "metadata": {},
   "outputs": [],
   "source": []
  }
 ],
 "metadata": {
  "kernelspec": {
   "display_name": "Python 3 (ipykernel)",
   "language": "python",
   "name": "python3"
  },
  "language_info": {
   "codemirror_mode": {
    "name": "ipython",
    "version": 3
   },
   "file_extension": ".py",
   "mimetype": "text/x-python",
   "name": "python",
   "nbconvert_exporter": "python",
   "pygments_lexer": "ipython3",
   "version": "3.9.12"
  }
 },
 "nbformat": 4,
 "nbformat_minor": 5
}
