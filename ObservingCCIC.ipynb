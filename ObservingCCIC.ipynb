{
 "cells": [
  {
   "cell_type": "code",
   "execution_count": 42,
   "id": "77fb0097",
   "metadata": {},
   "outputs": [
    {
     "name": "stdout",
     "output_type": "stream",
     "text": [
      "[6, 21, 0, 14, 5, 20, 9, 1, 25]\n"
     ]
    }
   ],
   "source": [
    "#the order of the schools in schoolsTotal[0] alignes with the order of the students in schoolsTotal[1]\n",
    "schoolsTotal = [[\"CCHS\",\"CTHS\",\"EA\",\"EHS\",\"ELV\",\"GVHS\",\"OHS\",\"OPT\",\"SHHS\"],\n",
    "                [8,28,0,18,7,26,12,1,33]]\n",
    "total= 133\n",
    "#in order- freshman,sophomore,junior,senior\n",
    "gradeLevel = [0,16,69,48]\n",
    "num = []\n",
    "#num will give a list of all of the rounded percents in the same order as the schools in schoolsTotal\n",
    "for x in schoolsTotal[1]:\n",
    "    percent = round((x / total)*100)\n",
    "    num.append(percent)\n",
    "    y = len(num)\n",
    "    z = 9\n",
    "    if y == z:\n",
    "        print(num)"
   ]
  }
 ],
 "metadata": {
  "kernelspec": {
   "display_name": "Python 3 (ipykernel)",
   "language": "python",
   "name": "python3"
  },
  "language_info": {
   "codemirror_mode": {
    "name": "ipython",
    "version": 3
   },
   "file_extension": ".py",
   "mimetype": "text/x-python",
   "name": "python",
   "nbconvert_exporter": "python",
   "pygments_lexer": "ipython3",
   "version": "3.9.12"
  }
 },
 "nbformat": 4,
 "nbformat_minor": 5
}
