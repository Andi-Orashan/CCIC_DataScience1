{
 "cells": [
  {
   "cell_type": "code",
   "execution_count": 29,
   "id": "f2382045",
   "metadata": {},
   "outputs": [
    {
     "name": "stdout",
     "output_type": "stream",
     "text": [
      "1288.05\n"
     ]
    }
   ],
   "source": [
    "p = 1385\n",
    "r = .07\n",
    "n = 1\n",
    "t = 1\n",
    "a = p * (1 + r*t)\n",
    "A = a-p\n",
    "print(p-A)\n"
   ]
  }
 ],
 "metadata": {
  "kernelspec": {
   "display_name": "Python 3 (ipykernel)",
   "language": "python",
   "name": "python3"
  },
  "language_info": {
   "codemirror_mode": {
    "name": "ipython",
    "version": 3
   },
   "file_extension": ".py",
   "mimetype": "text/x-python",
   "name": "python",
   "nbconvert_exporter": "python",
   "pygments_lexer": "ipython3",
   "version": "3.9.12"
  }
 },
 "nbformat": 4,
 "nbformat_minor": 5
}
