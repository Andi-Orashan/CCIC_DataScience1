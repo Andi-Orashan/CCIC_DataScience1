{
 "cells": [
  {
   "cell_type": "code",
   "execution_count": 3,
   "id": "ec16c2bd",
   "metadata": {},
   "outputs": [
    {
     "name": "stdout",
     "output_type": "stream",
     "text": [
      "Sorted Array: \n",
      "[-967493, -840341]\n",
      "8735951\n"
     ]
    }
   ],
   "source": [
    "import tracemalloc\n",
    "def counting_sort(unsorted):\n",
    "    result = [0] * len(unsorted)\n",
    "    num = 0\n",
    "    for x in unsorted:\n",
    "        if x > num:\n",
    "            num = x\n",
    "    high = num + 1\n",
    "    low = num\n",
    "    \n",
    "    for y in unsorted:\n",
    "        if y < low:\n",
    "            low = y\n",
    "    count_array = [0 for i in range(low, high+1)]\n",
    "    \n",
    "    for i in unsorted:\n",
    "        count_array[i-low] += 1 \n",
    "        \n",
    "    for j in range(1, len(count_array)):\n",
    "        count_array[j] += count_array[j-1]\n",
    "        \n",
    "    backwards= []\n",
    "    for value in unsorted:\n",
    "        backwards = [value] + backwards\n",
    "        \n",
    "    for k in backwards:\n",
    "        result[count_array[k-low] - 1] = k \n",
    "        count_array[k-low] -= 1  \n",
    "        \n",
    "    return result\n",
    "\n",
    "data = [-994669,-967493,-840341,-470637,-142679,1623,134727,830913]\n",
    "tracemalloc.start()\n",
    "x1,y1 = tracemalloc.get_traced_memory()\n",
    "print(\"Sorted Array: \")\n",
    "print(counting_sort(data))\n",
    "x2,y2 = tracemalloc.get_traced_memory()\n",
    "tracemalloc.stop()\n",
    "print(y2-y1)"
   ]
  },
  {
   "cell_type": "code",
   "execution_count": 4,
   "id": "350e4a9d",
   "metadata": {},
   "outputs": [
    {
     "name": "stdout",
     "output_type": "stream",
     "text": [
      "[-994669, -967493, -840341, -470637, -142679, 1623, 134727, 830913]\n",
      "0.8936507701873779\n"
     ]
    }
   ],
   "source": [
    "import time\n",
    "def counting_sort(unsorted):\n",
    "    result = [0] * len(unsorted)\n",
    "    num = 0\n",
    "    for x in unsorted:\n",
    "        if x > num:\n",
    "            num = x\n",
    "    high = num + 1\n",
    "    low = num\n",
    "    \n",
    "    for y in unsorted:\n",
    "        if y < low:\n",
    "            low = y\n",
    "    count_array = [0 for i in range(low, high+1)]\n",
    "    \n",
    "    for i in unsorted:\n",
    "        count_array[i-low] += 1 \n",
    "        \n",
    "    for j in range(1, len(count_array)):\n",
    "        count_array[j] += count_array[j-1]\n",
    "        \n",
    "    backwards= []\n",
    "    for value in unsorted:\n",
    "        backwards = [value] + backwards\n",
    "        \n",
    "    for k in backwards:\n",
    "        result[count_array[k-low] - 1] = k \n",
    "        count_array[k-low] -= 1  \n",
    "        \n",
    "    return result\n",
    "\n",
    "start = time.time()\n",
    "data = [-994669,-967493,-840341,-470637,-142679,1623,134727,830913]\n",
    "print(counting_sort(data))\n",
    "end = time.time()\n",
    "print(end-start)"
   ]
  }
 ],
 "metadata": {
  "kernelspec": {
   "display_name": "Python 3 (ipykernel)",
   "language": "python",
   "name": "python3"
  },
  "language_info": {
   "codemirror_mode": {
    "name": "ipython",
    "version": 3
   },
   "file_extension": ".py",
   "mimetype": "text/x-python",
   "name": "python",
   "nbconvert_exporter": "python",
   "pygments_lexer": "ipython3",
   "version": "3.9.12"
  }
 },
 "nbformat": 4,
 "nbformat_minor": 5
}
