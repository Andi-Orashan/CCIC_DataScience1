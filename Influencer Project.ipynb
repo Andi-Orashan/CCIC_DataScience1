{
 "cells": [
  {
   "cell_type": "code",
   "execution_count": 38,
   "id": "30981e96",
   "metadata": {},
   "outputs": [
    {
     "name": "stdout",
     "output_type": "stream",
     "text": [
      "count    1.370000e+02\n",
      "mean     8.520146e+07\n",
      "std      8.258396e+07\n",
      "min      3.340000e+07\n",
      "25%      4.180000e+07\n",
      "50%      5.330000e+07\n",
      "75%      7.140000e+07\n",
      "max      4.852000e+08\n",
      "Name: Followers, dtype: float64\n",
      "85201459.83941606\n",
      "0    33600000\n",
      "Name: Followers, dtype: int64\n",
      "53300000.0\n",
      "     Influence Score  Followers\n",
      "0                 92  485200000\n",
      "1                 91  370700000\n",
      "3                 93  348800000\n",
      "4                 91  339400000\n",
      "5                 92  333000000\n",
      "..               ...        ...\n",
      "195               63   33600000\n",
      "196               84   33600000\n",
      "197               80   33600000\n",
      "198               79   33500000\n",
      "199               81   33400000\n",
      "\n",
      "[137 rows x 2 columns]\n"
     ]
    },
    {
     "data": {
      "text/html": [
       "<div>\n",
       "<style scoped>\n",
       "    .dataframe tbody tr th:only-of-type {\n",
       "        vertical-align: middle;\n",
       "    }\n",
       "\n",
       "    .dataframe tbody tr th {\n",
       "        vertical-align: top;\n",
       "    }\n",
       "\n",
       "    .dataframe thead th {\n",
       "        text-align: right;\n",
       "    }\n",
       "</style>\n",
       "<table border=\"1\" class=\"dataframe\">\n",
       "  <thead>\n",
       "    <tr style=\"text-align: right;\">\n",
       "      <th></th>\n",
       "      <th>Influence Score</th>\n",
       "      <th>Followers</th>\n",
       "    </tr>\n",
       "  </thead>\n",
       "  <tbody>\n",
       "    <tr>\n",
       "      <th>Influence Score</th>\n",
       "      <td>1.000000</td>\n",
       "      <td>0.442241</td>\n",
       "    </tr>\n",
       "    <tr>\n",
       "      <th>Followers</th>\n",
       "      <td>0.442241</td>\n",
       "      <td>1.000000</td>\n",
       "    </tr>\n",
       "  </tbody>\n",
       "</table>\n",
       "</div>"
      ],
      "text/plain": [
       "                 Influence Score  Followers\n",
       "Influence Score         1.000000   0.442241\n",
       "Followers               0.442241   1.000000"
      ]
     },
     "execution_count": 38,
     "metadata": {},
     "output_type": "execute_result"
    }
   ],
   "source": [
    "## Is there a positive, statistically significant correlation between \n",
    "#  the number of followers an influencer has and their influence score?\n",
    "import pandas as pd\n",
    "df = pd.read_csv('Top_Influencers.csv')\n",
    "df.isnull().values.any()\n",
    "df.dropna(inplace= True)\n",
    "#dropped 63 rows of data\n",
    "df.drop(df.columns[[0,1,4,5,6,7,8,9]], axis = 1, inplace=True)\n",
    "\n",
    "df['Followers'] = df['Followers'].replace({'k': '*1e3', 'm': '*1e6'}, regex=True).map(pd.eval).astype('int64')\n",
    "print(df['Followers'].describe())\n",
    "print(df['Followers'].mean())\n",
    "print(df['Followers'].mode())\n",
    "print(df['Followers'].median())\n",
    "\n",
    "print(df)\n",
    "df.corr()"
   ]
  },
  {
   "cell_type": "code",
   "execution_count": 41,
   "id": "b8099ef1",
   "metadata": {},
   "outputs": [
    {
     "data": {
      "text/plain": [
       "<seaborn.axisgrid.FacetGrid at 0x141cd8e87f0>"
      ]
     },
     "execution_count": 41,
     "metadata": {},
     "output_type": "execute_result"
    },
    {
     "data": {
      "image/png": "[encoded data removed]",
      "text/plain": [
       "<Figure size 360x360 with 1 Axes>"
      ]
     },
     "metadata": {},
     "output_type": "display_data"
    }
   ],
   "source": [
    "import seaborn as sns\n",
    "sns.set_style('darkgrid') \n",
    "sns.lmplot(x ='Followers', y ='Influence Score', data = df)\n"
   ]
  },
  {
   "cell_type": "code",
   "execution_count": 37,
   "id": "67cb58bb",
   "metadata": {},
   "outputs": [
    {
     "name": "stdout",
     "output_type": "stream",
     "text": [
      "count    1.370000e+02\n",
      "mean     1.488024e+06\n",
      "std      1.538354e+06\n",
      "min      6.350000e+04\n",
      "25%      4.127000e+05\n",
      "50%      1.000000e+06\n",
      "75%      1.800000e+06\n",
      "max      8.700000e+06\n",
      "Name: Avg. Likes, dtype: float64\n",
      "1488024.0656934306\n",
      "0    1400000\n",
      "Name: Avg. Likes, dtype: int64\n",
      "1000000.0\n",
      "     Influence Score  Avg. Likes\n",
      "0                 92     8700000\n",
      "1                 91     8199999\n",
      "3                 93     6100000\n",
      "4                 91     1800000\n",
      "5                 92     3700000\n",
      "..               ...         ...\n",
      "195               63      680600\n",
      "196               84     2200000\n",
      "197               80      227800\n",
      "198               79      193300\n",
      "199               81      382500\n",
      "\n",
      "[137 rows x 2 columns]\n"
     ]
    },
    {
     "data": {
      "text/html": [
       "<div>\n",
       "<style scoped>\n",
       "    .dataframe tbody tr th:only-of-type {\n",
       "        vertical-align: middle;\n",
       "    }\n",
       "\n",
       "    .dataframe tbody tr th {\n",
       "        vertical-align: top;\n",
       "    }\n",
       "\n",
       "    .dataframe thead th {\n",
       "        text-align: right;\n",
       "    }\n",
       "</style>\n",
       "<table border=\"1\" class=\"dataframe\">\n",
       "  <thead>\n",
       "    <tr style=\"text-align: right;\">\n",
       "      <th></th>\n",
       "      <th>Influence Score</th>\n",
       "      <th>Avg. Likes</th>\n",
       "    </tr>\n",
       "  </thead>\n",
       "  <tbody>\n",
       "    <tr>\n",
       "      <th>Influence Score</th>\n",
       "      <td>1.000000</td>\n",
       "      <td>0.208166</td>\n",
       "    </tr>\n",
       "    <tr>\n",
       "      <th>Avg. Likes</th>\n",
       "      <td>0.208166</td>\n",
       "      <td>1.000000</td>\n",
       "    </tr>\n",
       "  </tbody>\n",
       "</table>\n",
       "</div>"
      ],
      "text/plain": [
       "                 Influence Score  Avg. Likes\n",
       "Influence Score         1.000000    0.208166\n",
       "Avg. Likes              0.208166    1.000000"
      ]
     },
     "execution_count": 37,
     "metadata": {},
     "output_type": "execute_result"
    }
   ],
   "source": [
    "## Is there a positive, statistically significant correlation between\n",
    "# the average likes an influencer has on a post and their influence score?\n",
    "import pandas as pd\n",
    "df2 = pd.read_csv('Top_Influencers.csv')\n",
    "df2.isnull().values.any()\n",
    "df2.dropna(inplace= True)\n",
    "#dropped 63 rows of data\n",
    "df2.drop(df2.columns[[0,1,3,5,6,7,8,9]], axis = 1, inplace=True)\n",
    "\n",
    "df2['Avg. Likes'] = df2['Avg. Likes'].replace({'k': '*1e3', 'm': '*1e6', 'b': '*1e9'}, regex=True).str.split(\"*\", expand=True).astype(\"float\").pipe(lambda x: x[0] * x[1]).astype('int64')\n",
    "\n",
    "print(df2['Avg. Likes'].describe())\n",
    "print(df2['Avg. Likes'].mean())\n",
    "print(df2['Avg. Likes'].mode())\n",
    "print(df2['Avg. Likes'].median())\n",
    "print(df2)\n",
    "df2.corr()"
   ]
  },
  {
   "cell_type": "code",
   "execution_count": 44,
   "id": "7a4a7b1f",
   "metadata": {},
   "outputs": [
    {
     "data": {
      "text/plain": [
       "<seaborn.axisgrid.FacetGrid at 0x141caf87e20>"
      ]
     },
     "execution_count": 44,
     "metadata": {},
     "output_type": "execute_result"
    },
    {
     "data": {
      "image/png": "[encoded data removed]",
      "text/plain": [
       "<Figure size 360x360 with 1 Axes>"
      ]
     },
     "metadata": {},
     "output_type": "display_data"
    }
   ],
   "source": [
    "import seaborn as sns\n",
    "sns.set_style('darkgrid') \n",
    "sns.lmplot(x ='Avg. Likes', y ='Influence Score', data = df2)\n"
   ]
  },
  {
   "cell_type": "code",
   "execution_count": 39,
   "id": "bef1a602",
   "metadata": {},
   "outputs": [
    {
     "name": "stdout",
     "output_type": "stream",
     "text": [
      "count    1.370000e+02\n",
      "mean     4.267624e+09\n",
      "std      6.475512e+09\n",
      "min      2.280000e+07\n",
      "25%      1.400000e+09\n",
      "50%      2.400000e+09\n",
      "75%      4.400000e+09\n",
      "max      5.740000e+10\n",
      "Name: Total Likes, dtype: float64\n",
      "4267624087.5766425\n",
      "0    1500000000\n",
      "1    1800000000\n",
      "Name: Total Likes, dtype: int64\n",
      "2400000000.0\n",
      "     Influence Score  Total Likes\n",
      "0                 92  29100000000\n",
      "1                 91  57400000000\n",
      "3                 93  11400000000\n",
      "4                 91  12600000000\n",
      "5                 92  18500000000\n",
      "..               ...          ...\n",
      "195               63   3100000000\n",
      "196               84   3000000000\n",
      "197               80    955900000\n",
      "198               79    167200000\n",
      "199               81   1500000000\n",
      "\n",
      "[137 rows x 2 columns]\n"
     ]
    },
    {
     "data": {
      "text/html": [
       "<div>\n",
       "<style scoped>\n",
       "    .dataframe tbody tr th:only-of-type {\n",
       "        vertical-align: middle;\n",
       "    }\n",
       "\n",
       "    .dataframe tbody tr th {\n",
       "        vertical-align: top;\n",
       "    }\n",
       "\n",
       "    .dataframe thead th {\n",
       "        text-align: right;\n",
       "    }\n",
       "</style>\n",
       "<table border=\"1\" class=\"dataframe\">\n",
       "  <thead>\n",
       "    <tr style=\"text-align: right;\">\n",
       "      <th></th>\n",
       "      <th>Influence Score</th>\n",
       "      <th>Total Likes</th>\n",
       "    </tr>\n",
       "  </thead>\n",
       "  <tbody>\n",
       "    <tr>\n",
       "      <th>Influence Score</th>\n",
       "      <td>1.000000</td>\n",
       "      <td>0.295035</td>\n",
       "    </tr>\n",
       "    <tr>\n",
       "      <th>Total Likes</th>\n",
       "      <td>0.295035</td>\n",
       "      <td>1.000000</td>\n",
       "    </tr>\n",
       "  </tbody>\n",
       "</table>\n",
       "</div>"
      ],
      "text/plain": [
       "                 Influence Score  Total Likes\n",
       "Influence Score         1.000000     0.295035\n",
       "Total Likes             0.295035     1.000000"
      ]
     },
     "execution_count": 39,
     "metadata": {},
     "output_type": "execute_result"
    }
   ],
   "source": [
    "## Is there a positive, statistically significant correlation between \n",
    "# the total number of likes an influencer has and their influence score?\n",
    "import pandas as pd\n",
    "df3 = pd.read_csv('Top_Influencers.csv')\n",
    "df3.isnull().values.any()\n",
    "df3.dropna(inplace= True)\n",
    "#dropped 63 rows of data\n",
    "df3.drop(df3.columns[[0,1,3,4,5,6,7,9]], axis = 1, inplace=True)\n",
    "\n",
    "df3['Total Likes'] = df3['Total Likes'].replace({'k': '*1e3', 'm': '*1e6', 'b': '*1e9'}, regex=True).map(pd.eval).astype('int64')\n",
    "\n",
    "print(df3['Total Likes'].describe())\n",
    "print(df3['Total Likes'].mean())\n",
    "print(df3['Total Likes'].mode())\n",
    "print(df3['Total Likes'].median())\n",
    "print(df3)\n",
    "df3.corr()"
   ]
  },
  {
   "cell_type": "code",
   "execution_count": 45,
   "id": "24cc0052",
   "metadata": {},
   "outputs": [
    {
     "data": {
      "text/plain": [
       "<seaborn.axisgrid.FacetGrid at 0x141cd8dd790>"
      ]
     },
     "execution_count": 45,
     "metadata": {},
     "output_type": "execute_result"
    },
    {
     "data": {
      "image/png": "[encoded data removed]",
      "text/plain": [
       "<Figure size 360x360 with 1 Axes>"
      ]
     },
     "metadata": {},
     "output_type": "display_data"
    }
   ],
   "source": [
    "import seaborn as sns\n",
    "sns.set_style('darkgrid') \n",
    "sns.lmplot(x ='Total Likes', y ='Influence Score', data = df3)\n"
   ]
  },
  {
   "cell_type": "code",
   "execution_count": 35,
   "id": "e175cee7",
   "metadata": {},
   "outputs": [
    {
     "name": "stdout",
     "output_type": "stream",
     "text": [
      "count      137.000000\n",
      "mean      3986.094891\n",
      "std       3391.164267\n",
      "min         35.000000\n",
      "25%       1400.000000\n",
      "50%       3000.000000\n",
      "75%       6300.000000\n",
      "max      16900.000000\n",
      "Name: Posts, dtype: float64\n",
      "3986.094890510949\n",
      "0    10000\n",
      "Name: Posts, dtype: int64\n",
      "3000.0\n",
      "     Influence Score  Posts\n",
      "0                 92   3400\n",
      "1                 91   7000\n",
      "3                 93   1900\n",
      "4                 91   6800\n",
      "5                 92   5000\n",
      "..               ...    ...\n",
      "195               63   4600\n",
      "196               84   1400\n",
      "197               80   4200\n",
      "198               79    865\n",
      "199               81   3800\n",
      "\n",
      "[137 rows x 2 columns]\n"
     ]
    },
    {
     "data": {
      "text/html": [
       "<div>\n",
       "<style scoped>\n",
       "    .dataframe tbody tr th:only-of-type {\n",
       "        vertical-align: middle;\n",
       "    }\n",
       "\n",
       "    .dataframe tbody tr th {\n",
       "        vertical-align: top;\n",
       "    }\n",
       "\n",
       "    .dataframe thead th {\n",
       "        text-align: right;\n",
       "    }\n",
       "</style>\n",
       "<table border=\"1\" class=\"dataframe\">\n",
       "  <thead>\n",
       "    <tr style=\"text-align: right;\">\n",
       "      <th></th>\n",
       "      <th>Influence Score</th>\n",
       "      <th>Posts</th>\n",
       "    </tr>\n",
       "  </thead>\n",
       "  <tbody>\n",
       "    <tr>\n",
       "      <th>Influence Score</th>\n",
       "      <td>1.00000</td>\n",
       "      <td>0.17408</td>\n",
       "    </tr>\n",
       "    <tr>\n",
       "      <th>Posts</th>\n",
       "      <td>0.17408</td>\n",
       "      <td>1.00000</td>\n",
       "    </tr>\n",
       "  </tbody>\n",
       "</table>\n",
       "</div>"
      ],
      "text/plain": [
       "                 Influence Score    Posts\n",
       "Influence Score          1.00000  0.17408\n",
       "Posts                    0.17408  1.00000"
      ]
     },
     "execution_count": 35,
     "metadata": {},
     "output_type": "execute_result"
    }
   ],
   "source": [
    "## Is there a positive, statistically significant correlation between \n",
    "# the number of posts an influencer has made and their influence score?\n",
    "import pandas as pd\n",
    "df4 = pd.read_csv('Top_Influencers.csv')\n",
    "df4.isnull().values.any()\n",
    "df4.dropna(inplace= True)\n",
    "#dropped 63 rows of data\n",
    "df4.drop(df4.columns[[0,1,3,4,6,7,8,9]], axis = 1, inplace=True)\n",
    "df4['Posts'] = df4['Posts'].replace({'k': '*1e3', 'm': '*1e6', 'b': '*1e9'}, regex=True).map(pd.eval).astype('int64')\n",
    "\n",
    "print(df4['Posts'].describe())\n",
    "print(df4['Posts'].mean())\n",
    "print(df4['Posts'].mode())\n",
    "print(df4['Posts'].median())\n",
    "print(df4)\n",
    "df4.corr()\n"
   ]
  },
  {
   "cell_type": "code",
   "execution_count": 46,
   "id": "222f0ee2",
   "metadata": {},
   "outputs": [
    {
     "data": {
      "text/plain": [
       "<seaborn.axisgrid.FacetGrid at 0x141c6d373a0>"
      ]
     },
     "execution_count": 46,
     "metadata": {},
     "output_type": "execute_result"
    },
    {
     "data": {
      "image/png": "[encoded data removed]",
      "text/plain": [
       "<Figure size 360x360 with 1 Axes>"
      ]
     },
     "metadata": {},
     "output_type": "display_data"
    }
   ],
   "source": [
    "import seaborn as sns\n",
    "sns.set_style('darkgrid') \n",
    "sns.lmplot(x ='Posts', y ='Influence Score', data = df4)\n"
   ]
  }
 ],
 "metadata": {
  "kernelspec": {
   "display_name": "Python 3 (ipykernel)",
   "language": "python",
   "name": "python3"
  },
  "language_info": {
   "codemirror_mode": {
    "name": "ipython",
    "version": 3
   },
   "file_extension": ".py",
   "mimetype": "text/x-python",
   "name": "python",
   "nbconvert_exporter": "python",
   "pygments_lexer": "ipython3",
   "version": "3.9.12"
  }
 },
 "nbformat": 4,
 "nbformat_minor": 5
}
